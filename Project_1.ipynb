{
 "cells": [
  {
   "cell_type": "markdown",
   "metadata": {},
   "source": [
    "# Programming Assignment 1\n",
    "## Wil Gaboury"
   ]
  },
  {
   "cell_type": "code",
   "execution_count": 1,
   "metadata": {},
   "outputs": [],
   "source": [
    "# imports\n",
    "import a_star\n",
    "import local_search as ls\n",
    "import pandas as pd\n",
    "import plotnine as p9\n",
    "import time\n",
    "import tsp"
   ]
  },
  {
   "cell_type": "markdown",
   "metadata": {},
   "source": [
    "## Part 1: Exploring Search Algorithm"
   ]
  },
  {
   "cell_type": "markdown",
   "metadata": {},
   "source": [
    "### 1. Randomly create a family of 30 TSP graphs/matrices for each size 5, 10, 15, 20, ..."
   ]
  },
  {
   "cell_type": "code",
   "execution_count": 2,
   "metadata": {},
   "outputs": [],
   "source": [
    "def gen_graphs(n):\n",
    "    result = []\n",
    "    for i in range(30):\n",
    "        result.append(tsp.TSPGraph.generate_random(n))\n",
    "    return result\n",
    "\n",
    "families = [\n",
    "#     (2, gen_graphs(2)),\n",
    "#     (3, gen_graphs(3)),\n",
    "#     (4, gen_graphs(4)),\n",
    "    (5, gen_graphs(5)),\n",
    "#     (6, gen_graphs(6)),\n",
    "#     (7, gen_graphs(7)),\n",
    "#     (8, gen_graphs(8)),\n",
    "#     (9, gen_graphs(9)),\n",
    "#     (10, gen_graphs(10)),\n",
    "#     (11, gen_graphs(11)),\n",
    "#     (12, gen_graphs(12))\n",
    "]"
   ]
  },
  {
   "cell_type": "markdown",
   "metadata": {},
   "source": [
    "### 1. Run the above algorithms on each of the family of size 5, of size 10, etc....\n",
    "### 2. For each family of 30 graphs/matrices you’ll compute the AVERAGE/MIN/MAX of totalcost, number of nodes, CPU and real-world runtime"
   ]
  },
  {
   "cell_type": "code",
   "execution_count": 3,
   "metadata": {},
   "outputs": [],
   "source": [
    "def test_a_star(families, hs):\n",
    "    df = pd.DataFrame(columns=['n', 'h', 'total_cost', 'node_count', 'cpu_time', 'real_time'])\n",
    "\n",
    "    for graph_size, family in families:\n",
    "        for h_name, h_func in hs.items():\n",
    "            for graph in family:    \n",
    "                start_cpu_time = time.process_time()\n",
    "                start_real_time = time.perf_counter()\n",
    "\n",
    "                search_result = a_star.a_star(graph.get_start_state_node(), tsp.is_goal, h_func)\n",
    "\n",
    "                end_cpu_time = time.process_time()\n",
    "                end_real_time = time.perf_counter()\n",
    "\n",
    "                path = search_result[0]\n",
    "                \n",
    "                df = df.append({\n",
    "                    'n': graph_size,\n",
    "                    'h': h_name,\n",
    "                    'total_cost': search_result[0].cost(),\n",
    "                    'node_count': search_result[1], \n",
    "                    'cpu_time': end_cpu_time - start_cpu_time,\n",
    "                    'real_time': end_real_time - start_real_time\n",
    "                }, ignore_index=True)\n",
    "    \n",
    "    df = df.astype({'total_cost': 'int64', 'node_count': 'int64'})\n",
    "    return df"
   ]
  },
  {
   "cell_type": "code",
   "execution_count": 4,
   "metadata": {},
   "outputs": [
    {
     "data": {
      "text/html": [
       "<div>\n",
       "<style scoped>\n",
       "    .dataframe tbody tr th:only-of-type {\n",
       "        vertical-align: middle;\n",
       "    }\n",
       "\n",
       "    .dataframe tbody tr th {\n",
       "        vertical-align: top;\n",
       "    }\n",
       "\n",
       "    .dataframe thead tr th {\n",
       "        text-align: left;\n",
       "    }\n",
       "\n",
       "    .dataframe thead tr:last-of-type th {\n",
       "        text-align: right;\n",
       "    }\n",
       "</style>\n",
       "<table border=\"1\" class=\"dataframe\">\n",
       "  <thead>\n",
       "    <tr>\n",
       "      <th></th>\n",
       "      <th></th>\n",
       "      <th colspan=\"3\" halign=\"left\">total_cost</th>\n",
       "      <th colspan=\"3\" halign=\"left\">node_count</th>\n",
       "      <th colspan=\"3\" halign=\"left\">cpu_time</th>\n",
       "      <th colspan=\"3\" halign=\"left\">real_time</th>\n",
       "    </tr>\n",
       "    <tr>\n",
       "      <th></th>\n",
       "      <th></th>\n",
       "      <th>mean</th>\n",
       "      <th>min</th>\n",
       "      <th>max</th>\n",
       "      <th>mean</th>\n",
       "      <th>min</th>\n",
       "      <th>max</th>\n",
       "      <th>mean</th>\n",
       "      <th>min</th>\n",
       "      <th>max</th>\n",
       "      <th>mean</th>\n",
       "      <th>min</th>\n",
       "      <th>max</th>\n",
       "    </tr>\n",
       "    <tr>\n",
       "      <th>n</th>\n",
       "      <th>h</th>\n",
       "      <th></th>\n",
       "      <th></th>\n",
       "      <th></th>\n",
       "      <th></th>\n",
       "      <th></th>\n",
       "      <th></th>\n",
       "      <th></th>\n",
       "      <th></th>\n",
       "      <th></th>\n",
       "      <th></th>\n",
       "      <th></th>\n",
       "      <th></th>\n",
       "    </tr>\n",
       "  </thead>\n",
       "  <tbody>\n",
       "    <tr>\n",
       "      <th rowspan=\"3\" valign=\"top\">5</th>\n",
       "      <th>random_edge</th>\n",
       "      <td>158.166667</td>\n",
       "      <td>49</td>\n",
       "      <td>284</td>\n",
       "      <td>23.466667</td>\n",
       "      <td>6</td>\n",
       "      <td>70</td>\n",
       "      <td>0.000447</td>\n",
       "      <td>0.000139</td>\n",
       "      <td>0.001225</td>\n",
       "      <td>0.000447</td>\n",
       "      <td>0.000138</td>\n",
       "      <td>0.001224</td>\n",
       "    </tr>\n",
       "    <tr>\n",
       "      <th>smallest_edge</th>\n",
       "      <td>152.033333</td>\n",
       "      <td>49</td>\n",
       "      <td>284</td>\n",
       "      <td>62.966667</td>\n",
       "      <td>26</td>\n",
       "      <td>104</td>\n",
       "      <td>0.001394</td>\n",
       "      <td>0.000626</td>\n",
       "      <td>0.002467</td>\n",
       "      <td>0.001396</td>\n",
       "      <td>0.000625</td>\n",
       "      <td>0.002466</td>\n",
       "    </tr>\n",
       "    <tr>\n",
       "      <th>uniform_cost</th>\n",
       "      <td>144.966667</td>\n",
       "      <td>49</td>\n",
       "      <td>275</td>\n",
       "      <td>69.366667</td>\n",
       "      <td>28</td>\n",
       "      <td>129</td>\n",
       "      <td>0.000875</td>\n",
       "      <td>0.000356</td>\n",
       "      <td>0.001564</td>\n",
       "      <td>0.000875</td>\n",
       "      <td>0.000356</td>\n",
       "      <td>0.001561</td>\n",
       "    </tr>\n",
       "  </tbody>\n",
       "</table>\n",
       "</div>"
      ],
      "text/plain": [
       "                 total_cost          node_count           cpu_time            \\\n",
       "                       mean min  max       mean min  max      mean       min   \n",
       "n h                                                                            \n",
       "5 random_edge    158.166667  49  284  23.466667   6   70  0.000447  0.000139   \n",
       "  smallest_edge  152.033333  49  284  62.966667  26  104  0.001394  0.000626   \n",
       "  uniform_cost   144.966667  49  275  69.366667  28  129  0.000875  0.000356   \n",
       "\n",
       "                          real_time                      \n",
       "                      max      mean       min       max  \n",
       "n h                                                      \n",
       "5 random_edge    0.001225  0.000447  0.000138  0.001224  \n",
       "  smallest_edge  0.002467  0.001396  0.000625  0.002466  \n",
       "  uniform_cost   0.001564  0.000875  0.000356  0.001561  "
      ]
     },
     "execution_count": 4,
     "metadata": {},
     "output_type": "execute_result"
    }
   ],
   "source": [
    "hs = {\n",
    "    'uniform_cost': a_star.h_uniform_cost,\n",
    "    'random_edge': a_star.h_random_edge,\n",
    "    'smallest_edge': a_star.h_smallest_edge\n",
    "}\n",
    "df = test_a_star(families, hs)\n",
    "df_summary = df.groupby(['n', 'h']).agg(['mean', 'min', 'max'])\n",
    "df_summary"
   ]
  },
  {
   "cell_type": "code",
   "execution_count": 5,
   "metadata": {},
   "outputs": [],
   "source": [
    "df_plot = df.groupby(['n', 'h']).agg('mean')\n",
    "\n",
    "# fixing the nested columns\n",
    "df_plot.columns = [\n",
    "    'total_cost_mean', \n",
    "    'node_count_mean',\n",
    "    'cpu_time_mean',\n",
    "    'real_time_mean',\n",
    "]\n",
    "df_plot = df_plot.reset_index()"
   ]
  },
  {
   "cell_type": "code",
   "execution_count": 6,
   "metadata": {
    "scrolled": false
   },
   "outputs": [
    {
     "name": "stderr",
     "output_type": "stream",
     "text": [
      "/home/wil/.local/lib/python3.8/site-packages/plotnine/geoms/geom_path.py:81: PlotnineWarning: geom_path: Each group consist of only one observation. Do you need to adjust the group aesthetic?\n"
     ]
    },
    {
     "data": {
      "image/png": "[encoded data removed]",
      "text/plain": [
       "<Figure size 640x480 with 1 Axes>"
      ]
     },
     "metadata": {},
     "output_type": "display_data"
    },
    {
     "data": {
      "text/plain": [
       "<ggplot: (8777950691657)>"
      ]
     },
     "execution_count": 6,
     "metadata": {},
     "output_type": "execute_result"
    }
   ],
   "source": [
    "(\n",
    "    p9.ggplot(df_plot, p9.aes(x='n', y='total_cost_mean', color='h'))\n",
    "        + p9.geom_line()\n",
    ")"
   ]
  },
  {
   "cell_type": "code",
   "execution_count": 7,
   "metadata": {},
   "outputs": [
    {
     "name": "stderr",
     "output_type": "stream",
     "text": [
      "/home/wil/.local/lib/python3.8/site-packages/plotnine/geoms/geom_path.py:81: PlotnineWarning: geom_path: Each group consist of only one observation. Do you need to adjust the group aesthetic?\n"
     ]
    },
    {
     "data": {
      "image/png": "[encoded data removed]",
      "text/plain": [
       "<Figure size 640x480 with 1 Axes>"
      ]
     },
     "metadata": {},
     "output_type": "display_data"
    },
    {
     "data": {
      "text/plain": [
       "<ggplot: (8777950618688)>"
      ]
     },
     "execution_count": 7,
     "metadata": {},
     "output_type": "execute_result"
    }
   ],
   "source": [
    "(\n",
    "    p9.ggplot(df_plot, p9.aes(x='n', y='node_count_mean', color='h'))\n",
    "        + p9.geom_line()\n",
    ")"
   ]
  },
  {
   "cell_type": "code",
   "execution_count": 8,
   "metadata": {},
   "outputs": [
    {
     "name": "stderr",
     "output_type": "stream",
     "text": [
      "/home/wil/.local/lib/python3.8/site-packages/plotnine/geoms/geom_path.py:81: PlotnineWarning: geom_path: Each group consist of only one observation. Do you need to adjust the group aesthetic?\n"
     ]
    },
    {
     "data": {
      "image/png": "[encoded data removed]",
      "text/plain": [
       "<Figure size 640x480 with 1 Axes>"
      ]
     },
     "metadata": {},
     "output_type": "display_data"
    },
    {
     "data": {
      "text/plain": [
       "<ggplot: (8777950691726)>"
      ]
     },
     "execution_count": 8,
     "metadata": {},
     "output_type": "execute_result"
    }
   ],
   "source": [
    "df_time = df_plot.copy()\n",
    "df_time = df_time[['n', 'h', 'cpu_time_mean', 'real_time_mean']]\n",
    "df_time = pd.melt(df_time, id_vars=['n', 'h'], value_vars=['cpu_time_mean', 'real_time_mean'], \n",
    "        var_name='time_type', value_name='time_mean')\n",
    "df_time['h_and_time_type'] = df_time['h'].str.cat(df_time['time_type'], sep=', ')\n",
    "(\n",
    "    p9.ggplot(df_time, p9.aes(x='n', y='time_mean', color='h_and_time_type'))\n",
    "        + p9.geom_line(position=p9.position_dodge2(width=0.75))\n",
    "        + p9.labs(y='Mean Time (seconds)')\n",
    ")"
   ]
  },
  {
   "cell_type": "markdown",
   "metadata": {},
   "source": [
    "The uniform cost search heuristic seemed to give the consistently lowest cost. This would make sense since it’s guaranteed to get the optimal outcome because it searches outward in every direction from the start node until it reaches the closest goal node. The difference in path length between all of the heuristics is small, with the maximum difference in my tests being around 10 when the size of the graph is 10. It seems that in general though the difference gets larger as n gets larger.\n",
    "\n",
    "The heuristic with the least runtime by far is the random edge heuristic. The runtimes for each heuristic get larger as the graph size gets larger.\n",
    "\n",
    "There is almost no difference on my computer between cpu and real world runtime. I can imagine if I was running another cpu intensive process on my computer at the same time there might have been a more significant difference."
   ]
  },
  {
   "cell_type": "markdown",
   "metadata": {},
   "source": [
    "## Part 2: Solve TSP with A* and MST Heuristic"
   ]
  },
  {
   "cell_type": "code",
   "execution_count": 9,
   "metadata": {},
   "outputs": [],
   "source": [
    "hs = { 'mst': a_star.h_mst }\n",
    "df_mst = test_a_star(families, hs)\n",
    "df_mst_small = pd.concat([df[df['h'] == 'smallest_edge'], df_mst])"
   ]
  },
  {
   "cell_type": "code",
   "execution_count": 10,
   "metadata": {},
   "outputs": [
    {
     "data": {
      "text/html": [
       "<div>\n",
       "<style scoped>\n",
       "    .dataframe tbody tr th:only-of-type {\n",
       "        vertical-align: middle;\n",
       "    }\n",
       "\n",
       "    .dataframe tbody tr th {\n",
       "        vertical-align: top;\n",
       "    }\n",
       "\n",
       "    .dataframe thead tr th {\n",
       "        text-align: left;\n",
       "    }\n",
       "\n",
       "    .dataframe thead tr:last-of-type th {\n",
       "        text-align: right;\n",
       "    }\n",
       "</style>\n",
       "<table border=\"1\" class=\"dataframe\">\n",
       "  <thead>\n",
       "    <tr>\n",
       "      <th></th>\n",
       "      <th></th>\n",
       "      <th colspan=\"3\" halign=\"left\">total_cost</th>\n",
       "      <th colspan=\"3\" halign=\"left\">node_count</th>\n",
       "      <th colspan=\"3\" halign=\"left\">cpu_time</th>\n",
       "      <th colspan=\"3\" halign=\"left\">real_time</th>\n",
       "    </tr>\n",
       "    <tr>\n",
       "      <th></th>\n",
       "      <th></th>\n",
       "      <th>mean</th>\n",
       "      <th>min</th>\n",
       "      <th>max</th>\n",
       "      <th>mean</th>\n",
       "      <th>min</th>\n",
       "      <th>max</th>\n",
       "      <th>mean</th>\n",
       "      <th>min</th>\n",
       "      <th>max</th>\n",
       "      <th>mean</th>\n",
       "      <th>min</th>\n",
       "      <th>max</th>\n",
       "    </tr>\n",
       "    <tr>\n",
       "      <th>n</th>\n",
       "      <th>h</th>\n",
       "      <th></th>\n",
       "      <th></th>\n",
       "      <th></th>\n",
       "      <th></th>\n",
       "      <th></th>\n",
       "      <th></th>\n",
       "      <th></th>\n",
       "      <th></th>\n",
       "      <th></th>\n",
       "      <th></th>\n",
       "      <th></th>\n",
       "      <th></th>\n",
       "    </tr>\n",
       "  </thead>\n",
       "  <tbody>\n",
       "    <tr>\n",
       "      <th rowspan=\"2\" valign=\"top\">5</th>\n",
       "      <th>mst</th>\n",
       "      <td>154.766667</td>\n",
       "      <td>49</td>\n",
       "      <td>284</td>\n",
       "      <td>31.000000</td>\n",
       "      <td>7</td>\n",
       "      <td>56</td>\n",
       "      <td>0.001207</td>\n",
       "      <td>0.000391</td>\n",
       "      <td>0.001976</td>\n",
       "      <td>0.001207</td>\n",
       "      <td>0.000390</td>\n",
       "      <td>0.001920</td>\n",
       "    </tr>\n",
       "    <tr>\n",
       "      <th>smallest_edge</th>\n",
       "      <td>152.033333</td>\n",
       "      <td>49</td>\n",
       "      <td>284</td>\n",
       "      <td>62.966667</td>\n",
       "      <td>26</td>\n",
       "      <td>104</td>\n",
       "      <td>0.001394</td>\n",
       "      <td>0.000626</td>\n",
       "      <td>0.002467</td>\n",
       "      <td>0.001396</td>\n",
       "      <td>0.000625</td>\n",
       "      <td>0.002466</td>\n",
       "    </tr>\n",
       "  </tbody>\n",
       "</table>\n",
       "</div>"
      ],
      "text/plain": [
       "                 total_cost          node_count           cpu_time            \\\n",
       "                       mean min  max       mean min  max      mean       min   \n",
       "n h                                                                            \n",
       "5 mst            154.766667  49  284  31.000000   7   56  0.001207  0.000391   \n",
       "  smallest_edge  152.033333  49  284  62.966667  26  104  0.001394  0.000626   \n",
       "\n",
       "                          real_time                      \n",
       "                      max      mean       min       max  \n",
       "n h                                                      \n",
       "5 mst            0.001976  0.001207  0.000390  0.001920  \n",
       "  smallest_edge  0.002467  0.001396  0.000625  0.002466  "
      ]
     },
     "execution_count": 10,
     "metadata": {},
     "output_type": "execute_result"
    }
   ],
   "source": [
    "df_summary = df_mst_small.groupby(['n', 'h']).agg(['mean', 'min', 'max'])\n",
    "df_summary"
   ]
  },
  {
   "cell_type": "code",
   "execution_count": 11,
   "metadata": {},
   "outputs": [],
   "source": [
    "df_ratio = df_mst_small.groupby(['n', 'h']).agg('mean')\n",
    "df_ratio.columns = [\n",
    "    'total_cost_mean', \n",
    "    'node_count_mean',\n",
    "    'cpu_time_mean',\n",
    "    'real_time_mean',\n",
    "]\n",
    "df_ratio = df_ratio.reset_index()"
   ]
  },
  {
   "cell_type": "code",
   "execution_count": 12,
   "metadata": {},
   "outputs": [
    {
     "name": "stderr",
     "output_type": "stream",
     "text": [
      "/home/wil/.local/lib/python3.8/site-packages/plotnine/geoms/geom_path.py:81: PlotnineWarning: geom_path: Each group consist of only one observation. Do you need to adjust the group aesthetic?\n"
     ]
    },
    {
     "data": {
      "image/png": "[encoded data removed]",
      "text/plain": [
       "<Figure size 640x480 with 1 Axes>"
      ]
     },
     "metadata": {},
     "output_type": "display_data"
    },
    {
     "data": {
      "text/plain": [
       "<ggplot: (8777948441757)>"
      ]
     },
     "execution_count": 12,
     "metadata": {},
     "output_type": "execute_result"
    }
   ],
   "source": [
    "df_cost = df_ratio[['n', 'h', 'total_cost_mean']]\n",
    "df_cost = df_cost.pivot_table(index=['n'], columns='h', values='total_cost_mean')\n",
    "df_cost = df_cost.reset_index()\n",
    "df_cost['ratio'] = df_cost['mst'] / df_cost['smallest_edge']\n",
    "(\n",
    "    p9.ggplot(df_cost, p9.aes(x='n', y='ratio'))\n",
    "        + p9.geom_line()\n",
    ")"
   ]
  },
  {
   "cell_type": "code",
   "execution_count": 13,
   "metadata": {},
   "outputs": [
    {
     "name": "stderr",
     "output_type": "stream",
     "text": [
      "/home/wil/.local/lib/python3.8/site-packages/plotnine/geoms/geom_path.py:81: PlotnineWarning: geom_path: Each group consist of only one observation. Do you need to adjust the group aesthetic?\n"
     ]
    },
    {
     "data": {
      "image/png": "[encoded data removed]",
      "text/plain": [
       "<Figure size 640x480 with 1 Axes>"
      ]
     },
     "metadata": {},
     "output_type": "display_data"
    },
    {
     "data": {
      "text/plain": [
       "<ggplot: (8777948419886)>"
      ]
     },
     "execution_count": 13,
     "metadata": {},
     "output_type": "execute_result"
    }
   ],
   "source": [
    "df_count = df_ratio[['n', 'h', 'node_count_mean']]\n",
    "df_count = df_count.pivot_table(index=['n'], columns='h', values='node_count_mean')\n",
    "df_count = df_count.reset_index()\n",
    "df_count['ratio'] = df_count['mst'] / df_cost['smallest_edge']\n",
    "(\n",
    "    p9.ggplot(df_count, p9.aes(x='n', y='ratio'))\n",
    "        + p9.geom_line()\n",
    ")"
   ]
  },
  {
   "cell_type": "code",
   "execution_count": 14,
   "metadata": {
    "scrolled": false
   },
   "outputs": [
    {
     "data": {
      "text/html": [
       "<div>\n",
       "<style scoped>\n",
       "    .dataframe tbody tr th:only-of-type {\n",
       "        vertical-align: middle;\n",
       "    }\n",
       "\n",
       "    .dataframe tbody tr th {\n",
       "        vertical-align: top;\n",
       "    }\n",
       "\n",
       "    .dataframe thead tr th {\n",
       "        text-align: left;\n",
       "    }\n",
       "\n",
       "    .dataframe thead tr:last-of-type th {\n",
       "        text-align: right;\n",
       "    }\n",
       "</style>\n",
       "<table border=\"1\" class=\"dataframe\">\n",
       "  <thead>\n",
       "    <tr>\n",
       "      <th></th>\n",
       "      <th></th>\n",
       "      <th colspan=\"3\" halign=\"left\">cpu_time</th>\n",
       "      <th colspan=\"3\" halign=\"left\">node_count</th>\n",
       "      <th colspan=\"3\" halign=\"left\">real_time</th>\n",
       "      <th colspan=\"3\" halign=\"left\">total_cost</th>\n",
       "    </tr>\n",
       "    <tr>\n",
       "      <th></th>\n",
       "      <th></th>\n",
       "      <th>mean</th>\n",
       "      <th>min</th>\n",
       "      <th>max</th>\n",
       "      <th>mean</th>\n",
       "      <th>min</th>\n",
       "      <th>max</th>\n",
       "      <th>mean</th>\n",
       "      <th>min</th>\n",
       "      <th>max</th>\n",
       "      <th>mean</th>\n",
       "      <th>min</th>\n",
       "      <th>max</th>\n",
       "    </tr>\n",
       "    <tr>\n",
       "      <th>n</th>\n",
       "      <th>h</th>\n",
       "      <th></th>\n",
       "      <th></th>\n",
       "      <th></th>\n",
       "      <th></th>\n",
       "      <th></th>\n",
       "      <th></th>\n",
       "      <th></th>\n",
       "      <th></th>\n",
       "      <th></th>\n",
       "      <th></th>\n",
       "      <th></th>\n",
       "      <th></th>\n",
       "    </tr>\n",
       "  </thead>\n",
       "  <tbody>\n",
       "    <tr>\n",
       "      <th rowspan=\"3\" valign=\"top\">5</th>\n",
       "      <th>random_edge</th>\n",
       "      <td>-0.000760</td>\n",
       "      <td>-0.001664</td>\n",
       "      <td>-0.000043</td>\n",
       "      <td>-7.533333</td>\n",
       "      <td>-42.0</td>\n",
       "      <td>27.0</td>\n",
       "      <td>-0.000760</td>\n",
       "      <td>-0.001608</td>\n",
       "      <td>-0.000042</td>\n",
       "      <td>3.400000</td>\n",
       "      <td>-45.0</td>\n",
       "      <td>67.0</td>\n",
       "    </tr>\n",
       "    <tr>\n",
       "      <th>smallest_edge</th>\n",
       "      <td>0.000187</td>\n",
       "      <td>-0.000459</td>\n",
       "      <td>0.001166</td>\n",
       "      <td>31.966667</td>\n",
       "      <td>3.0</td>\n",
       "      <td>57.0</td>\n",
       "      <td>0.000189</td>\n",
       "      <td>-0.000449</td>\n",
       "      <td>0.001171</td>\n",
       "      <td>-2.733333</td>\n",
       "      <td>-47.0</td>\n",
       "      <td>62.0</td>\n",
       "    </tr>\n",
       "    <tr>\n",
       "      <th>uniform_cost</th>\n",
       "      <td>-0.000332</td>\n",
       "      <td>-0.001306</td>\n",
       "      <td>0.000422</td>\n",
       "      <td>38.366667</td>\n",
       "      <td>-3.0</td>\n",
       "      <td>84.0</td>\n",
       "      <td>-0.000331</td>\n",
       "      <td>-0.001250</td>\n",
       "      <td>0.000418</td>\n",
       "      <td>-9.800000</td>\n",
       "      <td>-47.0</td>\n",
       "      <td>0.0</td>\n",
       "    </tr>\n",
       "  </tbody>\n",
       "</table>\n",
       "</div>"
      ],
      "text/plain": [
       "                 cpu_time                     node_count              \\\n",
       "                     mean       min       max       mean   min   max   \n",
       "n h                                                                    \n",
       "5 random_edge   -0.000760 -0.001664 -0.000043  -7.533333 -42.0  27.0   \n",
       "  smallest_edge  0.000187 -0.000459  0.001166  31.966667   3.0  57.0   \n",
       "  uniform_cost  -0.000332 -0.001306  0.000422  38.366667  -3.0  84.0   \n",
       "\n",
       "                real_time                     total_cost              \n",
       "                     mean       min       max       mean   min   max  \n",
       "n h                                                                   \n",
       "5 random_edge   -0.000760 -0.001608 -0.000042   3.400000 -45.0  67.0  \n",
       "  smallest_edge  0.000189 -0.000449  0.001171  -2.733333 -47.0  62.0  \n",
       "  uniform_cost  -0.000331 -0.001250  0.000418  -9.800000 -47.0   0.0  "
      ]
     },
     "execution_count": 14,
     "metadata": {},
     "output_type": "execute_result"
    }
   ],
   "source": [
    "#perform difference caluclations\n",
    "df_diff = df.copy()\n",
    "df_diff['test_num'] = df_diff.index % 30\n",
    "\n",
    "df_diff = pd.melt(df_diff, id_vars=['n', 'h', 'test_num'], \n",
    "                  value_vars=['total_cost', 'node_count', 'cpu_time', 'real_time'], \n",
    "                  var_name='stat_type', value_name='stat_value')\n",
    "\n",
    "df_mst_diff = df_mst.copy()\n",
    "df_mst_diff['test_num'] = df_mst_diff.index % 30\n",
    "\n",
    "df_mst_diff = pd.melt(df_mst_diff, id_vars=['n', 'h', 'test_num'], \n",
    "                      value_vars=['total_cost', 'node_count', 'cpu_time', 'real_time'], \n",
    "                      var_name='stat_type', value_name='stat_value')\n",
    "\n",
    "df_diff = df_diff.merge(df_mst_diff, how='left', \n",
    "                        left_on=['n', 'test_num', 'stat_type'], \n",
    "                        right_on=['n', 'test_num', 'stat_type'])\n",
    "\n",
    "df_diff['diff'] = df_diff['stat_value_x'] - df_diff['stat_value_y']\n",
    "df_diff = df_diff[['n', 'test_num', 'h_x', 'stat_type', 'diff']]\n",
    "df_diff = df_diff.rename(columns={'h_x': 'h'})\n",
    "\n",
    "df_diff = df_diff.pivot_table(index=['n', 'test_num', 'h'], columns='stat_type', values='diff')\n",
    "df_diff = df_diff.reset_index()\n",
    "del df_diff['test_num']\n",
    "df_diff_summary = df_diff.groupby(['n', 'h']).agg(['mean', 'min', 'max'])\n",
    "df_diff_summary"
   ]
  },
  {
   "cell_type": "markdown",
   "metadata": {},
   "source": [
    "The above is a table of the mean/min/max of the differences between each catagory in the original test and the values of the mst test"
   ]
  },
  {
   "cell_type": "code",
   "execution_count": 15,
   "metadata": {},
   "outputs": [],
   "source": [
    "# prepping plot dataframe\n",
    "df_plot = df_diff.groupby(['n', 'h']).agg(['mean'])\n",
    "df_plot.columns = [\n",
    "    'total_cost_mean', \n",
    "    'node_count_mean',\n",
    "    'cpu_time_mean',\n",
    "    'real_time_mean',\n",
    "]\n",
    "df_plot = df_plot.reset_index()"
   ]
  },
  {
   "cell_type": "code",
   "execution_count": 16,
   "metadata": {},
   "outputs": [
    {
     "name": "stderr",
     "output_type": "stream",
     "text": [
      "/home/wil/.local/lib/python3.8/site-packages/plotnine/geoms/geom_path.py:81: PlotnineWarning: geom_path: Each group consist of only one observation. Do you need to adjust the group aesthetic?\n"
     ]
    },
    {
     "data": {
      "image/png": "[encoded data removed]",
      "text/plain": [
       "<Figure size 640x480 with 1 Axes>"
      ]
     },
     "metadata": {},
     "output_type": "display_data"
    },
    {
     "data": {
      "text/plain": [
       "<ggplot: (8777948288350)>"
      ]
     },
     "execution_count": 16,
     "metadata": {},
     "output_type": "execute_result"
    }
   ],
   "source": [
    "(\n",
    "    p9.ggplot(df_plot, p9.aes(x='n', y='total_cost_mean', color='h'))\n",
    "        + p9.geom_line()\n",
    ")"
   ]
  },
  {
   "cell_type": "code",
   "execution_count": 17,
   "metadata": {},
   "outputs": [
    {
     "name": "stderr",
     "output_type": "stream",
     "text": [
      "/home/wil/.local/lib/python3.8/site-packages/plotnine/geoms/geom_path.py:81: PlotnineWarning: geom_path: Each group consist of only one observation. Do you need to adjust the group aesthetic?\n"
     ]
    },
    {
     "data": {
      "image/png": "[encoded data removed]",
      "text/plain": [
       "<Figure size 640x480 with 1 Axes>"
      ]
     },
     "metadata": {},
     "output_type": "display_data"
    },
    {
     "data": {
      "text/plain": [
       "<ggplot: (8777948441640)>"
      ]
     },
     "execution_count": 17,
     "metadata": {},
     "output_type": "execute_result"
    }
   ],
   "source": [
    "(\n",
    "    p9.ggplot(df_plot, p9.aes(x='n', y='node_count_mean', color='h'))\n",
    "        + p9.geom_line()\n",
    ")"
   ]
  },
  {
   "cell_type": "markdown",
   "metadata": {},
   "source": [
    "## Part 3: Explore Local Search Algorithm"
   ]
  },
  {
   "cell_type": "code",
   "execution_count": 18,
   "metadata": {},
   "outputs": [],
   "source": [
    "def test_local_search_alg(families, funcs):\n",
    "    df = pd.DataFrame(columns=['n', 'search_type', 'total_cost', 'cpu_time', 'real_time'])\n",
    "\n",
    "    for graph_size, family in families:\n",
    "        for func_name, func in funcs.items():\n",
    "            for graph in family:\n",
    "                start_cpu_time = time.process_time()\n",
    "                start_real_time = time.perf_counter()\n",
    "\n",
    "                search_result = func(graph)\n",
    "\n",
    "                end_cpu_time = time.process_time()\n",
    "                end_real_time = time.perf_counter()\n",
    "                \n",
    "                df = df.append({\n",
    "                    'n': graph_size,\n",
    "                    'search_type': func_name,\n",
    "                    'total_cost': tsp.path_cost(search_result, graph),\n",
    "                    'cpu_time': end_cpu_time - start_cpu_time,\n",
    "                    'real_time': end_real_time - start_real_time\n",
    "                }, ignore_index=True)\n",
    "    \n",
    "    df = df.astype({'total_cost': 'int64'})\n",
    "    return df"
   ]
  },
  {
   "cell_type": "code",
   "execution_count": 27,
   "metadata": {},
   "outputs": [],
   "source": [
    "families = [\n",
    "    (5, gen_graphs(5)),\n",
    "    (10, gen_graphs(10)),\n",
    "#     (15, gen_graphs(15)),\n",
    "#     (20, gen_graphs(20)),\n",
    "]"
   ]
  },
  {
   "cell_type": "code",
   "execution_count": 37,
   "metadata": {},
   "outputs": [],
   "source": [
    "# contants for algorithms\n",
    "\n",
    "hill_climbing_restarts = 50\n",
    "\n",
    "simulated_annealing_iterations = 50\n",
    "\n",
    "genetic_alg_iterations = 100\n",
    "genetic_alg_population_size = 250\n",
    "genetic_alg_mutation_factor = 0.3"
   ]
  },
  {
   "cell_type": "code",
   "execution_count": 38,
   "metadata": {},
   "outputs": [],
   "source": [
    "funcs = {\n",
    "    'hill_climbing': lambda g: ls.hill_climbing(g, hill_climbing_restarts),\n",
    "    'simulated_annealing': lambda g: ls.simulated_annealing(g, simulated_annealing_iterations),\n",
    "    'genetic_algorithm': lambda g: ls.genetic_algorithm(g, genetic_alg_iterations, genetic_alg_population_size, genetic_alg_mutation_factor)\n",
    "}"
   ]
  },
  {
   "cell_type": "code",
   "execution_count": 39,
   "metadata": {},
   "outputs": [
    {
     "data": {
      "text/html": [
       "<div>\n",
       "<style scoped>\n",
       "    .dataframe tbody tr th:only-of-type {\n",
       "        vertical-align: middle;\n",
       "    }\n",
       "\n",
       "    .dataframe tbody tr th {\n",
       "        vertical-align: top;\n",
       "    }\n",
       "\n",
       "    .dataframe thead tr th {\n",
       "        text-align: left;\n",
       "    }\n",
       "\n",
       "    .dataframe thead tr:last-of-type th {\n",
       "        text-align: right;\n",
       "    }\n",
       "</style>\n",
       "<table border=\"1\" class=\"dataframe\">\n",
       "  <thead>\n",
       "    <tr>\n",
       "      <th></th>\n",
       "      <th></th>\n",
       "      <th>total_cost</th>\n",
       "      <th>cpu_time</th>\n",
       "      <th>real_time</th>\n",
       "    </tr>\n",
       "    <tr>\n",
       "      <th></th>\n",
       "      <th></th>\n",
       "      <th>mean</th>\n",
       "      <th>mean</th>\n",
       "      <th>mean</th>\n",
       "    </tr>\n",
       "    <tr>\n",
       "      <th>n</th>\n",
       "      <th>search_type</th>\n",
       "      <th></th>\n",
       "      <th></th>\n",
       "      <th></th>\n",
       "    </tr>\n",
       "  </thead>\n",
       "  <tbody>\n",
       "    <tr>\n",
       "      <th rowspan=\"3\" valign=\"top\">5</th>\n",
       "      <th>genetic_algorithm</th>\n",
       "      <td>273.033333</td>\n",
       "      <td>0.099873</td>\n",
       "      <td>0.100040</td>\n",
       "    </tr>\n",
       "    <tr>\n",
       "      <th>hill_climbing</th>\n",
       "      <td>170.966667</td>\n",
       "      <td>0.001503</td>\n",
       "      <td>0.001505</td>\n",
       "    </tr>\n",
       "    <tr>\n",
       "      <th>simulated_annealing</th>\n",
       "      <td>73.566667</td>\n",
       "      <td>0.000204</td>\n",
       "      <td>0.000204</td>\n",
       "    </tr>\n",
       "    <tr>\n",
       "      <th rowspan=\"3\" valign=\"top\">10</th>\n",
       "      <th>genetic_algorithm</th>\n",
       "      <td>530.933333</td>\n",
       "      <td>0.170365</td>\n",
       "      <td>0.171041</td>\n",
       "    </tr>\n",
       "    <tr>\n",
       "      <th>hill_climbing</th>\n",
       "      <td>337.400000</td>\n",
       "      <td>0.002663</td>\n",
       "      <td>0.002668</td>\n",
       "    </tr>\n",
       "    <tr>\n",
       "      <th>simulated_annealing</th>\n",
       "      <td>94.833333</td>\n",
       "      <td>0.000387</td>\n",
       "      <td>0.000386</td>\n",
       "    </tr>\n",
       "  </tbody>\n",
       "</table>\n",
       "</div>"
      ],
      "text/plain": [
       "                        total_cost  cpu_time real_time\n",
       "                              mean      mean      mean\n",
       "n  search_type                                        \n",
       "5  genetic_algorithm    273.033333  0.099873  0.100040\n",
       "   hill_climbing        170.966667  0.001503  0.001505\n",
       "   simulated_annealing   73.566667  0.000204  0.000204\n",
       "10 genetic_algorithm    530.933333  0.170365  0.171041\n",
       "   hill_climbing        337.400000  0.002663  0.002668\n",
       "   simulated_annealing   94.833333  0.000387  0.000386"
      ]
     },
     "execution_count": 39,
     "metadata": {},
     "output_type": "execute_result"
    }
   ],
   "source": [
    "df = test_local_search_alg(families, funcs)\n",
    "# df_mst = test_a_star(families, { 'mst': a_star.h_mst })\n",
    "# del df_mst['node_count']\n",
    "# df_mst = df_mst.rename(columns={'h': 'search_type'})\n",
    "# df = df.append(df_mst, ignore_index=True)\n",
    "df.groupby(['n', 'search_type']).agg(['mean'])"
   ]
  },
  {
   "cell_type": "code",
   "execution_count": null,
   "metadata": {},
   "outputs": [],
   "source": []
  }
 ],
 "metadata": {
  "kernelspec": {
   "display_name": "Python 3",
   "language": "python",
   "name": "python3"
  },
  "language_info": {
   "codemirror_mode": {
    "name": "ipython",
    "version": 3
   },
   "file_extension": ".py",
   "mimetype": "text/x-python",
   "name": "python",
   "nbconvert_exporter": "python",
   "pygments_lexer": "ipython3",
   "version": "3.8.5"
  }
 },
 "nbformat": 4,
 "nbformat_minor": 4
}
