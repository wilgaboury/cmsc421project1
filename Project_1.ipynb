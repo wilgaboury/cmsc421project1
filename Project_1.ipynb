{
 "cells": [
  {
   "cell_type": "markdown",
   "metadata": {},
   "source": [
    "# Programming Assignment 1\n",
    "## Wil Gaboury"
   ]
  },
  {
   "cell_type": "code",
   "execution_count": null,
   "metadata": {},
   "outputs": [],
   "source": [
    "# imports\n",
    "import a_star\n",
    "import time\n",
    "import pandas as pd"
   ]
  },
  {
   "cell_type": "markdown",
   "metadata": {},
   "source": [
    "## Part 1: Exploring Search Algorithm"
   ]
  },
  {
   "cell_type": "markdown",
   "metadata": {},
   "source": [
    "### 1. Randomly create a family of 30 TSP graphs/matrices for each size 5, 10, 15, 20, ..."
   ]
  },
  {
   "cell_type": "code",
   "execution_count": null,
   "metadata": {},
   "outputs": [],
   "source": [
    "def gen_graphs(n):\n",
    "    result = []\n",
    "    for i in range(30):\n",
    "        result.append(a_star.TSPGraph.generate_random(n))\n",
    "    return result\n",
    "\n",
    "families = [\n",
    "    (5, gen_graphs(5))\n",
    "#     (10, gen_graphs(10))\n",
    "#     (15, gen_graphs(15)),\n",
    "#     (20, gen_graphs(20)),\n",
    "#     (25, gen_graphs(25))\n",
    "]"
   ]
  },
  {
   "cell_type": "markdown",
   "metadata": {},
   "source": [
    "### 1. Run the above algorithms on each of the family of size 5, of size 10, etc....\n",
    "### 2. For each family of 30 graphs/matrices you’ll compute the AVERAGE/MIN/MAX of totalcost, number of nodes, CPU and real-world runtime"
   ]
  },
  {
   "cell_type": "code",
   "execution_count": null,
   "metadata": {},
   "outputs": [],
   "source": [
    "df = pd.DataFrame(columns=['n', 'h', 'total_cost', 'node_count', 'cpu_time', 'real_time'])\n",
    "hs = {\n",
    "    'uniform_cost': a_star.h_uniform_cost,\n",
    "    'random_edge': a_star.h_random_edge,\n",
    "    'smallest_edge': a_star.h_smallest_edge\n",
    "}\n",
    "\n",
    "for graph_size, family in families:\n",
    "    for h_name, h_func in hs.items():\n",
    "        print(h_name)\n",
    "        for graph in family:    \n",
    "            start_cpu_time = time.process_time()\n",
    "            start_real_time = time.time()\n",
    "\n",
    "            search_result = a_star.a_star(graph.get_start_state_node(), a_star.is_goal, h_func)\n",
    "\n",
    "            end_cpu_time = time.process_time()\n",
    "            end_real_time = time.time()\n",
    "\n",
    "            df = df.append({\n",
    "                'n': graph_size,\n",
    "                'h': h_name,\n",
    "                'total_cost': sum(list(search_result[0].path)),\n",
    "                'node_count': search_result[1], \n",
    "                'cpu_time': end_cpu_time - start_cpu_time,\n",
    "                'real_time': end_real_time - start_real_time\n",
    "            }, ignore_index=True)\n",
    "            \n",
    "df_summary = df.groupby(['n', 'h']).agg(['avg', 'min', 'max'])"
   ]
  },
  {
   "cell_type": "code",
   "execution_count": null,
   "metadata": {},
   "outputs": [],
   "source": [
    "df_summary"
   ]
  }
 ],
 "metadata": {
  "kernelspec": {
   "display_name": "Python 3",
   "language": "python",
   "name": "python3"
  },
  "language_info": {
   "codemirror_mode": {
    "name": "ipython",
    "version": 3
   },
   "file_extension": ".py",
   "mimetype": "text/x-python",
   "name": "python",
   "nbconvert_exporter": "python",
   "pygments_lexer": "ipython3",
   "version": "3.8.5"
  }
 },
 "nbformat": 4,
 "nbformat_minor": 4
}
